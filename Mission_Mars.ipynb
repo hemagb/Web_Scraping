{
 "cells": [
  {
   "cell_type": "code",
   "execution_count": 27,
   "metadata": {},
   "outputs": [],
   "source": [
    "# Dependencies\n",
    "import requests\n",
    "from bs4 import BeautifulSoup as bs\n",
    "import pandas as pd\n",
    "import time\n"
   ]
  },
  {
   "cell_type": "code",
   "execution_count": 28,
   "metadata": {},
   "outputs": [],
   "source": [
    "from splinter import Browser\n",
    "executable_path = {'executable_path': 'chromedriver.exe'}\n",
    "browser = Browser('chrome', **executable_path, headless=False)\n"
   ]
  },
  {
   "cell_type": "code",
   "execution_count": 29,
   "metadata": {},
   "outputs": [],
   "source": [
    "mars_info = {}"
   ]
  },
  {
   "cell_type": "code",
   "execution_count": 30,
   "metadata": {},
   "outputs": [
    {
     "data": {
      "text/plain": [
       "<div class=\"content_title\"><a href=\"/news/8414/six-things-to-know-about-nasas-opportunity-rover/\" target=\"_self\">Six Things to Know About NASA's Opportunity Rover</a></div>"
      ]
     },
     "execution_count": 30,
     "metadata": {},
     "output_type": "execute_result"
    }
   ],
   "source": [
    "url = \"https://mars.nasa.gov/news/\"\n",
    "browser.visit(url)\n",
    "html=browser.html\n",
    "time.sleep(2)\n",
    "soup = bs(html, 'html.parser')\n",
    "titles = soup.find_all('div', class_=\"content_title\")\n",
    "mars_info['title']  = titles[0]\n",
    "# for index in (range(len(titles))):\n",
    "#     print(titles[index].getText())\n",
    "time.sleep(2)"
   ]
  },
  {
   "cell_type": "code",
   "execution_count": 31,
   "metadata": {},
   "outputs": [
    {
     "data": {
      "text/plain": [
       "{'news title': \"Six Things to Know About NASA's Opportunity Rover\"}"
      ]
     },
     "execution_count": 31,
     "metadata": {},
     "output_type": "execute_result"
    }
   ],
   "source": [
    "mars_info['news title'] =titles[0].text\n",
    "mars_info"
   ]
  },
  {
   "cell_type": "code",
   "execution_count": 32,
   "metadata": {},
   "outputs": [
    {
     "data": {
      "text/plain": [
       "<div class=\"article_teaser_body\">Opportunity's mission is complete. Here are highlights from its time on Mars.</div>"
      ]
     },
     "execution_count": 32,
     "metadata": {},
     "output_type": "execute_result"
    }
   ],
   "source": [
    "paragraph = soup.find_all('div', class_=\"article_teaser_body\")\n",
    "paragraph[0]\n",
    "# for index in (range(len(paragraph))):\n",
    "#     print(paragraph[index].getText())\n"
   ]
  },
  {
   "cell_type": "code",
   "execution_count": 33,
   "metadata": {},
   "outputs": [
    {
     "data": {
      "text/plain": [
       "{'news title': \"Six Things to Know About NASA's Opportunity Rover\",\n",
       " 'news_paragraph': \"Opportunity's mission is complete. Here are highlights from its time on Mars.\"}"
      ]
     },
     "execution_count": 33,
     "metadata": {},
     "output_type": "execute_result"
    }
   ],
   "source": [
    "mars_info['news_paragraph'] = paragraph[0].text\n",
    "mars_info"
   ]
  },
  {
   "cell_type": "code",
   "execution_count": 34,
   "metadata": {},
   "outputs": [
    {
     "name": "stdout",
     "output_type": "stream",
     "text": [
      "https://www.jpl.nasa.gov/spaceimages/images/mediumsize/PIA17254_ip.jpg\n"
     ]
    }
   ],
   "source": [
    "url= \"https://www.jpl.nasa.gov/spaceimages/?search=&category=Mars\"\n",
    "browser .visit(url)\n",
    "html=browser.html\n",
    "time.sleep(2)\n",
    "soup = bs(html,'html.parser')\n",
    "featured_image_url = soup.findAll('a',{'class':'fancybox'})[0]['data-fancybox-href']\n",
    "# find_all(\"img\", class_=\"image_and_description_container\")\n",
    "print(\"https://www.jpl.nasa.gov\"+featured_image_url)\n",
    "time.sleep(2)"
   ]
  },
  {
   "cell_type": "code",
   "execution_count": 36,
   "metadata": {},
   "outputs": [],
   "source": [
    "# Twitter \n",
    "### Mars Weather\n",
    "def Mars_Weather():\n",
    "    url = \"https://twitter.com/marswxreport?lang=en\"\n",
    "    browser.visit(url)\n",
    "    time.sleep(2)\n",
    "    html=browser.html\n",
    "    soup=bs(html, 'html.parser')\n",
    "    data = soup.find_all('p', class_=\"TweetTextSize TweetTextSize--normal js-tweet-text tweet-text\")\n",
    "    mars_info['weather_tweet'] = data[1].text\n",
    "    return mars_info"
   ]
  },
  {
   "cell_type": "code",
   "execution_count": 38,
   "metadata": {},
   "outputs": [
    {
     "data": {
      "text/plain": [
       "{'news title': \"Six Things to Know About NASA's Opportunity Rover\",\n",
       " 'news_paragraph': \"Opportunity's mission is complete. Here are highlights from its time on Mars.\",\n",
       " 'weather_tweet': 'Sol 2316 (2019-02-10), high -14C/6F, low -72C/-97F, pressure at 8.14 hPa, daylight 06:47-18:52'}"
      ]
     },
     "execution_count": 38,
     "metadata": {},
     "output_type": "execute_result"
    }
   ],
   "source": [
    "Mars_Weather_Display = Mars_Weather()\n",
    "Mars_Weather_Display"
   ]
  },
  {
   "cell_type": "code",
   "execution_count": null,
   "metadata": {},
   "outputs": [],
   "source": [
    "# Mars facts\n",
    "def Initialize(url):\n",
    "    browser.visit(url)\n",
    "    html=browser.html\n",
    "    time.sleep(2)\n",
    "    return html\n",
    "\n",
    "def Mars_Facts():\n",
    "    soup=bs(Initialize(\"http://space-facts.com/mars/\"), 'html.parser')\n",
    "    tabledata =soup.find('table', class_=\"tablepress tablepress-id-mars\")\n",
    "    keys=[]\n",
    "    values=[]\n",
    "    coloum1 =tabledata.findAll(\"td\", class_=\"column-1\")\n",
    "    coloum2 =tabledata.findAll(\"td\", class_=\"column-2\")\n",
    "\n",
    "    for key in coloum1:\n",
    "        keys.append(key.text)    \n",
    "\n",
    "    for value in coloum2:\n",
    "        values.append(value.text)\n",
    "    mars_facts = pd.DataFrame({\n",
    "        \"key\":keys,\n",
    "        \"Value\":values\n",
    "        })\n",
    "    mars_facts_html = mars_facts.to_html(header=False, index=False)\n",
    "    mars_info['mars_facts'] = mars_facts\n",
    "    return mars_info"
   ]
  },
  {
   "cell_type": "code",
   "execution_count": null,
   "metadata": {},
   "outputs": [],
   "source": [
    "mars_facts_display = Mars_Facts()"
   ]
  },
  {
   "cell_type": "code",
   "execution_count": null,
   "metadata": {},
   "outputs": [],
   "source": [
    "mars_facts_display"
   ]
  },
  {
   "cell_type": "code",
   "execution_count": null,
   "metadata": {},
   "outputs": [],
   "source": [
    "# Get hemisphere images\n",
    "\n",
    "soup=bs(Initialize(\"https://astrogeology.usgs.gov/search/results?q=hemisphere+enhanced&k1=target&v1=Mars\"), 'html.parser')\n",
    "time.sleep(4)"
   ]
  },
  {
   "cell_type": "code",
   "execution_count": null,
   "metadata": {},
   "outputs": [],
   "source": [
    "def mars_hemsiphere(): \n",
    "    Image_Title = soup.findAll(\"h3\")\n",
    "    imgsrc = soup.find_all('img', class_=\"thumb\")\n",
    "    dict_MarsHemisphere = {}\n",
    "    list_MarsHemisphere = []\n",
    "    count=0\n",
    "    for header in Image_Title:\n",
    "        p = browser.find_by_text(header.text) \n",
    "        p.click()\n",
    "        time.sleep(3)\n",
    "        back = browser.find_link_by_partial_text(\"Back\")\n",
    "        back.click()\n",
    "        time.sleep(3)\n",
    "        print(\"title: \"+header.text)\n",
    "        url = \"https://astrogeology.usgs.gov\"+imgsrc[count]['src']\n",
    "        list_MarsHemisphere.append({\"title:\" : header.text , \"img_url\" : url })\n",
    "        #dict_MarsHemisphere[hearder.text]=url]\n",
    "        print(\"img: \"+url)\n",
    "        count+=1\n",
    "        mars_info['Hemisphere'] = list_MarsHemisphere\n",
    "    return mars_info   "
   ]
  },
  {
   "cell_type": "code",
   "execution_count": null,
   "metadata": {},
   "outputs": [],
   "source": [
    "d = mars_hemsiphere()"
   ]
  },
  {
   "cell_type": "code",
   "execution_count": 11,
   "metadata": {},
   "outputs": [
    {
     "data": {
      "text/plain": [
       "[{'title:': 'Cerberus Hemisphere Enhanced',\n",
       "  'img_url': 'https://astrogeology.usgs.gov/cache/images/dfaf3849e74bf973b59eb50dab52b583_cerberus_enhanced.tif_thumb.png'},\n",
       " {'title:': 'Schiaparelli Hemisphere Enhanced',\n",
       "  'img_url': 'https://astrogeology.usgs.gov/cache/images/7677c0a006b83871b5a2f66985ab5857_schiaparelli_enhanced.tif_thumb.png'},\n",
       " {'title:': 'Syrtis Major Hemisphere Enhanced',\n",
       "  'img_url': 'https://astrogeology.usgs.gov/cache/images/aae41197e40d6d4f3ea557f8cfe51d15_syrtis_major_enhanced.tif_thumb.png'},\n",
       " {'title:': 'Valles Marineris Hemisphere Enhanced',\n",
       "  'img_url': 'https://astrogeology.usgs.gov/cache/images/04085d99ec3713883a9a57f42be9c725_valles_marineris_enhanced.tif_thumb.png'}]"
      ]
     },
     "execution_count": 11,
     "metadata": {},
     "output_type": "execute_result"
    }
   ],
   "source": [
    "d"
   ]
  },
  {
   "cell_type": "code",
   "execution_count": null,
   "metadata": {},
   "outputs": [],
   "source": []
  }
 ],
 "metadata": {
  "kernelspec": {
   "display_name": "Python 3",
   "language": "python",
   "name": "python3"
  },
  "language_info": {
   "codemirror_mode": {
    "name": "ipython",
    "version": 3
   },
   "file_extension": ".py",
   "mimetype": "text/x-python",
   "name": "python",
   "nbconvert_exporter": "python",
   "pygments_lexer": "ipython3",
   "version": "3.7.0"
  },
  "varInspector": {
   "cols": {
    "lenName": 16,
    "lenType": 16,
    "lenVar": 40
   },
   "kernels_config": {
    "python": {
     "delete_cmd_postfix": "",
     "delete_cmd_prefix": "del ",
     "library": "var_list.py",
     "varRefreshCmd": "print(var_dic_list())"
    },
    "r": {
     "delete_cmd_postfix": ") ",
     "delete_cmd_prefix": "rm(",
     "library": "var_list.r",
     "varRefreshCmd": "cat(var_dic_list()) "
    }
   },
   "types_to_exclude": [
    "module",
    "function",
    "builtin_function_or_method",
    "instance",
    "_Feature"
   ],
   "window_display": false
  }
 },
 "nbformat": 4,
 "nbformat_minor": 2
}
